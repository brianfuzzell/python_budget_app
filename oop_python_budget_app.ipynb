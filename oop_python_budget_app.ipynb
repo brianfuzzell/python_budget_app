{
 "cells": [
  {
   "cell_type": "markdown",
   "metadata": {},
   "source": [
    "# Python course lab:\n",
    "### Use the fundamental Python skills learned in class to create an interactive application.\n",
    "\n",
    "**Application:** Budget Tracker app\n",
    "\n",
    "**Problem Statement:** Your cousin's lemonade stand wants to enter the 21st century and track their budget using a Python application that stores data in a .csv file.\n",
    "\n",
    "**Technical Requirements:**\n",
    "Budget app should store all entries in a .csv file\n",
    "App should load the previously created entries when the user initializes the application"
   ]
  },
  {
   "cell_type": "code",
   "execution_count": 1,
   "metadata": {},
   "outputs": [
    {
     "name": "stdout",
     "output_type": "stream",
     "text": [
      "Interactive namespace is empty.\n"
     ]
    }
   ],
   "source": [
    "whos"
   ]
  },
  {
   "cell_type": "code",
   "execution_count": 2,
   "metadata": {},
   "outputs": [],
   "source": [
    "import csv\n",
    "from prettytable import PrettyTable"
   ]
  },
  {
   "cell_type": "code",
   "execution_count": 3,
   "metadata": {},
   "outputs": [],
   "source": [
    "# A - Add a transaction\n",
    "def add_transaction(writer):\n",
    "    print(\"\\nAdd a budget item\")\n",
    "    title = input(\"Enter a title to describe the budget item: \")\n",
    "    category = input(\"Enter the category for this item (Income or Expense): \")\n",
    "    total_amount = input(\"Enter the total amount: \")\n",
    "    date_transaction = input(\"Enter the transaction date in MM-DD-YYYY format: \")\n",
    "    print()\n",
    "    new_item = {'Title':title, 'Category':category, 'Total Amount of Item':total_amount, 'Date of Transaction':date_transaction}\n",
    "    writer.writerow(new_item) "
   ]
  },
  {
   "cell_type": "code",
   "execution_count": 4,
   "metadata": {},
   "outputs": [],
   "source": [
    "# B - Print the value of the account balance \n",
    "def view_account_balance(reader, file):\n",
    "    income_values = []\n",
    "    expense_values = []\n",
    "\n",
    "    file.seek(0) # Point at the beginning of the file\n",
    "\n",
    "    for row in reader:\n",
    "        if row[\"Category\"] == \"Income\":\n",
    "            income_values.append(float(row[\"Total Amount of Item\"]))\n",
    "        elif row[\"Category\"] == \"Expense\":\n",
    "            expense_values.append(float(row[\"Total Amount of Item\"]))\n",
    "            \n",
    "    account_balance = sum(income_values) - sum(expense_values)\n",
    "\n",
    "    print(f\"The account balance is ${account_balance}\")"
   ]
  },
  {
   "cell_type": "code",
   "execution_count": 5,
   "metadata": {},
   "outputs": [],
   "source": [
    "# C - View all previous transactions\n",
    "def view_all_transactions(reader, file):\n",
    "    print(\"Here are your transactions:\") \n",
    "    file.seek(0) \n",
    "    reader = csv.DictReader(file)\n",
    "    \n",
    "    table = PrettyTable()\n",
    "    table.field_names = reader.fieldnames\n",
    "    \n",
    "    for row in reader:\n",
    "        table.add_row(list(row.values()))\n",
    "\n",
    "    print(table)"
   ]
  },
  {
   "cell_type": "code",
   "execution_count": 6,
   "metadata": {},
   "outputs": [],
   "source": [
    "def import_headers(writer):    # writer is created here\n",
    "    writer.writeheader() # writes header row based on fieldnames specified when creating the DictWriter object\n",
    "def budget_app():\n",
    "    transaction_file = input(\"Name your file (with .csv extension)\")\n",
    "    with open(transaction_file, \"a+\", newline=\"\") as file: \n",
    "        headers = [\"Title\", \"Category\", \"Total Amount of Item\", \"Date of Transaction\"]\n",
    "        writer = csv.DictWriter(file, fieldnames=headers) \n",
    "        reader = csv.DictReader(file)\n",
    "        \n",
    "        file.seek(0) \n",
    "        lines = file.readlines() \n",
    "\n",
    "        if len(lines) == 0: \n",
    "            import_headers(writer) \n",
    "        \n",
    "        current_task = \"\" \n",
    "       \n",
    "        while current_task != \"q\": # Will not quit/stop until user inputs \"q\"\n",
    "            print(\"Press [a] to add a new budget item, [b] to view the account balance, [c] to view all transactions, or [q] to quit.\")\n",
    "            current_task = input(\"What would you like to do?\")\n",
    "            if(current_task == \"a\"):\n",
    "                add_transaction(writer)\n",
    "            elif(current_task == \"b\"):\n",
    "                view_account_balance(reader, file)\n",
    "            elif(current_task == \"c\"):\n",
    "                view_all_transactions(reader, file)"
   ]
  },
  {
   "cell_type": "code",
   "execution_count": null,
   "metadata": {},
   "outputs": [],
   "source": [
    "budget_app()"
   ]
  },
  {
   "cell_type": "code",
   "execution_count": null,
   "metadata": {},
   "outputs": [],
   "source": [
    "whos"
   ]
  },
  {
   "cell_type": "code",
   "execution_count": null,
   "metadata": {},
   "outputs": [],
   "source": []
  }
 ],
 "metadata": {
  "kernelspec": {
   "display_name": "Python 3 (ipykernel)",
   "language": "python",
   "name": "python3"
  },
  "language_info": {
   "codemirror_mode": {
    "name": "ipython",
    "version": 3
   },
   "file_extension": ".py",
   "mimetype": "text/x-python",
   "name": "python",
   "nbconvert_exporter": "python",
   "pygments_lexer": "ipython3",
   "version": "3.12.4"
  }
 },
 "nbformat": 4,
 "nbformat_minor": 4
}
